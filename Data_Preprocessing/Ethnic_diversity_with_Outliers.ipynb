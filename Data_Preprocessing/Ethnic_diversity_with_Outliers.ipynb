{
 "cells": [
  {
   "cell_type": "raw",
   "id": "be545af8-f6cc-47c9-a8ea-6efb55dd7b04",
   "metadata": {},
   "source": [
    "# In this dataset we finding and removing the Outliers\n",
    "# outlier is a data point that is significantly different from the majority of other data points in a se"
   ]
  },
  {
   "cell_type": "code",
   "execution_count": 4,
   "id": "1714dd6c-ae8d-477d-8f77-7cd8da14fb09",
   "metadata": {},
   "outputs": [],
   "source": [
    "import pandas as pd\n",
    "import seaborn as sns"
   ]
  },
  {
   "cell_type": "code",
   "execution_count": 5,
   "id": "1b2927cf-06a7-47ac-8022-b711172d97c4",
   "metadata": {},
   "outputs": [
    {
     "data": {
      "text/html": [
       "<div>\n",
       "<style scoped>\n",
       "    .dataframe tbody tr th:only-of-type {\n",
       "        vertical-align: middle;\n",
       "    }\n",
       "\n",
       "    .dataframe tbody tr th {\n",
       "        vertical-align: top;\n",
       "    }\n",
       "\n",
       "    .dataframe thead th {\n",
       "        text-align: right;\n",
       "    }\n",
       "</style>\n",
       "<table border=\"1\" class=\"dataframe\">\n",
       "  <thead>\n",
       "    <tr style=\"text-align: right;\">\n",
       "      <th></th>\n",
       "      <th>Employee_Name</th>\n",
       "      <th>EmpID</th>\n",
       "      <th>Position</th>\n",
       "      <th>State</th>\n",
       "      <th>Zip</th>\n",
       "      <th>Sex</th>\n",
       "      <th>MaritalDesc</th>\n",
       "      <th>CitizenDesc</th>\n",
       "      <th>EmploymentStatus</th>\n",
       "      <th>Department</th>\n",
       "      <th>Salaries</th>\n",
       "      <th>age</th>\n",
       "      <th>Race</th>\n",
       "    </tr>\n",
       "  </thead>\n",
       "  <tbody>\n",
       "    <tr>\n",
       "      <th>0</th>\n",
       "      <td>Brown, Mia</td>\n",
       "      <td>1103024456</td>\n",
       "      <td>Accountant I</td>\n",
       "      <td>MA</td>\n",
       "      <td>1450</td>\n",
       "      <td>F</td>\n",
       "      <td>Married</td>\n",
       "      <td>US Citizen</td>\n",
       "      <td>Active</td>\n",
       "      <td>Admin Offices</td>\n",
       "      <td>674.28</td>\n",
       "      <td>28</td>\n",
       "      <td>Black or African American</td>\n",
       "    </tr>\n",
       "    <tr>\n",
       "      <th>1</th>\n",
       "      <td>LaRotonda, William</td>\n",
       "      <td>1106026572</td>\n",
       "      <td>Accountant I</td>\n",
       "      <td>MA</td>\n",
       "      <td>1460</td>\n",
       "      <td>M</td>\n",
       "      <td>Divorced</td>\n",
       "      <td>US Citizen</td>\n",
       "      <td>Active</td>\n",
       "      <td>Admin Offices</td>\n",
       "      <td>674.28</td>\n",
       "      <td>50</td>\n",
       "      <td>Black or African American</td>\n",
       "    </tr>\n",
       "    <tr>\n",
       "      <th>2</th>\n",
       "      <td>Steans, Tyrone</td>\n",
       "      <td>1302053333</td>\n",
       "      <td>Accountant I</td>\n",
       "      <td>MA</td>\n",
       "      <td>2703</td>\n",
       "      <td>M</td>\n",
       "      <td>Single</td>\n",
       "      <td>US Citizen</td>\n",
       "      <td>Active</td>\n",
       "      <td>Admin Offices</td>\n",
       "      <td>674.28</td>\n",
       "      <td>43</td>\n",
       "      <td>White</td>\n",
       "    </tr>\n",
       "    <tr>\n",
       "      <th>3</th>\n",
       "      <td>Howard, Estelle</td>\n",
       "      <td>1211050782</td>\n",
       "      <td>Administrative Assistant</td>\n",
       "      <td>MA</td>\n",
       "      <td>2170</td>\n",
       "      <td>F</td>\n",
       "      <td>Married</td>\n",
       "      <td>US Citizen</td>\n",
       "      <td>Terminated for Cause</td>\n",
       "      <td>Admin Offices</td>\n",
       "      <td>47822.00</td>\n",
       "      <td>44</td>\n",
       "      <td>White</td>\n",
       "    </tr>\n",
       "    <tr>\n",
       "      <th>4</th>\n",
       "      <td>Singh, Nan</td>\n",
       "      <td>1307059817</td>\n",
       "      <td>Administrative Assistant</td>\n",
       "      <td>MA</td>\n",
       "      <td>2330</td>\n",
       "      <td>F</td>\n",
       "      <td>Single</td>\n",
       "      <td>US Citizen</td>\n",
       "      <td>Active</td>\n",
       "      <td>Admin Offices</td>\n",
       "      <td>61089.35</td>\n",
       "      <td>33</td>\n",
       "      <td>White</td>\n",
       "    </tr>\n",
       "  </tbody>\n",
       "</table>\n",
       "</div>"
      ],
      "text/plain": [
       "          Employee_Name       EmpID                  Position State   Zip Sex  \\\n",
       "0            Brown, Mia  1103024456              Accountant I    MA  1450   F   \n",
       "1  LaRotonda, William    1106026572              Accountant I    MA  1460  M    \n",
       "2      Steans, Tyrone    1302053333              Accountant I    MA  2703  M    \n",
       "3       Howard, Estelle  1211050782  Administrative Assistant    MA  2170   F   \n",
       "4           Singh, Nan   1307059817  Administrative Assistant    MA  2330   F   \n",
       "\n",
       "  MaritalDesc CitizenDesc      EmploymentStatus     Department  Salaries  age  \\\n",
       "0     Married  US Citizen                Active  Admin Offices    674.28   28   \n",
       "1    Divorced  US Citizen                Active  Admin Offices    674.28   50   \n",
       "2      Single  US Citizen                Active  Admin Offices    674.28   43   \n",
       "3     Married  US Citizen  Terminated for Cause  Admin Offices  47822.00   44   \n",
       "4      Single  US Citizen                Active  Admin Offices  61089.35   33   \n",
       "\n",
       "                        Race  \n",
       "0  Black or African American  \n",
       "1  Black or African American  \n",
       "2                      White  \n",
       "3                      White  \n",
       "4                      White  "
      ]
     },
     "execution_count": 5,
     "metadata": {},
     "output_type": "execute_result"
    }
   ],
   "source": [
    "df=pd.read_csv(\"ethnic diversity.csv\")\n",
    "df.head()\n",
    "# Now find outliers"
   ]
  },
  {
   "cell_type": "code",
   "execution_count": 11,
   "id": "f59370a2-a367-46fb-8627-bffb04347a9f",
   "metadata": {},
   "outputs": [
    {
     "data": {
      "text/plain": [
       "<Axes: >"
      ]
     },
     "execution_count": 11,
     "metadata": {},
     "output_type": "execute_result"
    },
    {
     "data": {
      "image/png": "[encoded data removed]",
      "text/plain": [
       "<Figure size 640x480 with 1 Axes>"
      ]
     },
     "metadata": {},
     "output_type": "display_data"
    }
   ],
   "source": [
    "# Let us check the outliers in age column\n",
    "sns.boxplot(df.age)\n",
    "# we use boxplot to identify outlies\n",
    "# There are no outliers"
   ]
  },
  {
   "cell_type": "code",
   "execution_count": 13,
   "id": "f6e8c6a0-877e-4292-b880-d8d7e0a042ec",
   "metadata": {},
   "outputs": [
    {
     "data": {
      "text/plain": [
       "<Axes: >"
      ]
     },
     "execution_count": 13,
     "metadata": {},
     "output_type": "execute_result"
    },
    {
     "data": {
      "image/png": "[encoded data removed]",
      "text/plain": [
       "<Figure size 640x480 with 1 Axes>"
      ]
     },
     "metadata": {},
     "output_type": "display_data"
    }
   ],
   "source": [
    "# Let us check the outliers in Salaries column\n",
    "sns.boxplot(df.Salaries)\n",
    "# There are outliers\n",
    "# On right hand side outliers are there"
   ]
  },
  {
   "cell_type": "raw",
   "id": "83d7b268-b4e1-4236-80a3-c4509d72493a",
   "metadata": {},
   "source": [
    "Let us calculate IQR--\n",
    "The interquartile range IQR tells us the range \n",
    "where the bulk of the values lie. The interquartile \n",
    "range is calculated by subtracting the first quartile\n",
    "from the third quartile. \n",
    "IQR = Q3 - Q1\n",
    "##################\n",
    "Q1 is defined as the middle number between the smallest number and the median of the data set.\n",
    "Q2 is the median of the data.\n",
    "Q3 is the middle value between the median and the highest value of the data set."
   ]
  },
  {
   "cell_type": "code",
   "execution_count": 14,
   "id": "b51b7c87-1766-4117-b852-88cf553200ae",
   "metadata": {},
   "outputs": [],
   "source": [
    "IQR=df.Salaries.quantile(0.75)-df.Salaries.quantile(0.25)"
   ]
  },
  {
   "cell_type": "code",
   "execution_count": 15,
   "id": "c9aecf2b-8b67-45d2-8fb7-196053721379",
   "metadata": {},
   "outputs": [
    {
     "data": {
      "text/plain": [
       "28359.945"
      ]
     },
     "execution_count": 15,
     "metadata": {},
     "output_type": "execute_result"
    }
   ],
   "source": [
    "IQR"
   ]
  },
  {
   "cell_type": "raw",
   "id": "ba563b0f-2847-4f58-a4b7-60f36ef6a9cb",
   "metadata": {},
   "source": [
    "# but if you will try as I,Iqr or iqr then it is showing\n",
    "# I=df.Salaries.quantile(0.75)-df.Salaries.quantile(0.25)\n",
    "# Iqr = df.Salaries.quantile(0.75)-df.Salaries.quantile(0.25)\n",
    "# iqr = df.Salaries.quantile(0.75)-df.Salaries.quantile(0.25)"
   ]
  },
  {
   "cell_type": "code",
   "execution_count": 29,
   "id": "771dd0d1-463e-4d15-a411-56c1510c1675",
   "metadata": {},
   "outputs": [],
   "source": [
    "lower_limit=df.Salaries.quantile(0.25)-1.5*IQR\n",
    "upper_limit=df.Salaries.quantile(0.75)+1.5*IQR"
   ]
  },
  {
   "cell_type": "code",
   "execution_count": 30,
   "id": "92ebea0c-5a29-4885-b25f-a246dceb7bc4",
   "metadata": {},
   "outputs": [
    {
     "data": {
      "text/plain": [
       "-19446.9675"
      ]
     },
     "execution_count": 30,
     "metadata": {},
     "output_type": "execute_result"
    }
   ],
   "source": [
    "# Now if you check the lower limit of salary\n",
    "lower_limit\n",
    "# It is -19446.9675\n",
    "# There si negative salary so make is as 0\n",
    "# How to make it  --> go to variable explorer in spyder and make it 0"
   ]
  },
  {
   "cell_type": "code",
   "execution_count": 31,
   "id": "f5d83692-e9e5-45e2-9cd8-02e282ee1a92",
   "metadata": {},
   "outputs": [
    {
     "data": {
      "text/plain": [
       "93992.8125"
      ]
     },
     "execution_count": 31,
     "metadata": {},
     "output_type": "execute_result"
    }
   ],
   "source": [
    "upper_limit"
   ]
  },
  {
   "cell_type": "code",
   "execution_count": 32,
   "id": "ca38d24c-a25d-4a94-a3c3-208a1dfb56e1",
   "metadata": {},
   "outputs": [],
   "source": [
    "# Trimming -->> excludes the outlier values from your analysis.\n",
    "# trimming is the last option to remove outlier it directly remove the whole row\n",
    "import numpy as np\n",
    "outliers_df=np.where(df.Salaries>upper_limit,True,np.where(df.Salaries<lower_limit,True,False))"
   ]
  },
  {
   "cell_type": "code",
   "execution_count": 33,
   "id": "e7521340-b253-4edd-8e70-1a6b95197c47",
   "metadata": {},
   "outputs": [],
   "source": [
    "#you can check outliers_df col in variable explorer"
   ]
  },
  {
   "cell_type": "code",
   "execution_count": 34,
   "id": "b548f0f0-c08b-40df-9642-2ea62ecab6b5",
   "metadata": {},
   "outputs": [
    {
     "data": {
      "text/plain": [
       "(310, 13)"
      ]
     },
     "execution_count": 34,
     "metadata": {},
     "output_type": "execute_result"
    }
   ],
   "source": [
    "df_trimmed=df.loc[~outliers_df]\n",
    "df.shape"
   ]
  },
  {
   "cell_type": "code",
   "execution_count": 35,
   "id": "48ac8fd8-9781-4f80-99be-240a8d9ce148",
   "metadata": {},
   "outputs": [
    {
     "data": {
      "text/plain": [
       "(306, 13)"
      ]
     },
     "execution_count": 35,
     "metadata": {},
     "output_type": "execute_result"
    }
   ],
   "source": [
    "df_trimmed.shape"
   ]
  },
  {
   "cell_type": "code",
   "execution_count": 38,
   "id": "5e963b6f-0030-4a94-94b6-b1c8b1537655",
   "metadata": {},
   "outputs": [
    {
     "data": {
      "text/plain": [
       "<Axes: >"
      ]
     },
     "execution_count": 38,
     "metadata": {},
     "output_type": "execute_result"
    },
    {
     "data": {
      "image/png": "[encoded data removed]",
      "text/plain": [
       "<Figure size 640x480 with 1 Axes>"
      ]
     },
     "metadata": {},
     "output_type": "display_data"
    }
   ],
   "source": [
    "sns.boxplot(df_trimmed.Salaries) #outliers are removed here"
   ]
  },
  {
   "cell_type": "code",
   "execution_count": null,
   "id": "17813092-195a-422e-8397-f5e18170cf6f",
   "metadata": {},
   "outputs": [],
   "source": []
  }
 ],
 "metadata": {
  "kernelspec": {
   "display_name": "Python 3 (ipykernel)",
   "language": "python",
   "name": "python3"
  },
  "language_info": {
   "codemirror_mode": {
    "name": "ipython",
    "version": 3
   },
   "file_extension": ".py",
   "mimetype": "text/x-python",
   "name": "python",
   "nbconvert_exporter": "python",
   "pygments_lexer": "ipython3",
   "version": "3.11.7"
  }
 },
 "nbformat": 4,
 "nbformat_minor": 5
}

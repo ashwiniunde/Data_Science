{
 "cells": [
  {
   "cell_type": "code",
   "execution_count": 19,
   "id": "19f1e02a-b357-45cb-9b72-6eab7611b399",
   "metadata": {},
   "outputs": [],
   "source": [
    "# EDA-Exploratory Data Analysis\n",
    "# Data Preprocessing--->> It is the process of detecting and correcting (removing) corrupt or inaccurate records from a dataset.\n",
    "    # It refers to the cleaning, transforming, and integrating of data in order to make it ready for analysis. The goal of data preprocessing \n",
    "    # is to improve the quality of the data and to make it more suitable for the specific data mining task.\n",
    "import pandas as pd\n",
    "# Here we convert the data types of an columns"
   ]
  },
  {
   "cell_type": "code",
   "execution_count": 3,
   "id": "ede813b9-29b9-40e4-b722-20d0bae05d55",
   "metadata": {},
   "outputs": [],
   "source": [
    "#importing Dataset\n",
    "df=pd.read_csv(\"ethnic diversity.csv\")"
   ]
  },
  {
   "cell_type": "code",
   "execution_count": 4,
   "id": "dc248d14-1c4e-4138-9495-07cd2f2279df",
   "metadata": {},
   "outputs": [
    {
     "data": {
      "text/html": [
       "<div>\n",
       "<style scoped>\n",
       "    .dataframe tbody tr th:only-of-type {\n",
       "        vertical-align: middle;\n",
       "    }\n",
       "\n",
       "    .dataframe tbody tr th {\n",
       "        vertical-align: top;\n",
       "    }\n",
       "\n",
       "    .dataframe thead th {\n",
       "        text-align: right;\n",
       "    }\n",
       "</style>\n",
       "<table border=\"1\" class=\"dataframe\">\n",
       "  <thead>\n",
       "    <tr style=\"text-align: right;\">\n",
       "      <th></th>\n",
       "      <th>Employee_Name</th>\n",
       "      <th>EmpID</th>\n",
       "      <th>Position</th>\n",
       "      <th>State</th>\n",
       "      <th>Zip</th>\n",
       "      <th>Sex</th>\n",
       "      <th>MaritalDesc</th>\n",
       "      <th>CitizenDesc</th>\n",
       "      <th>EmploymentStatus</th>\n",
       "      <th>Department</th>\n",
       "      <th>Salaries</th>\n",
       "      <th>age</th>\n",
       "      <th>Race</th>\n",
       "    </tr>\n",
       "  </thead>\n",
       "  <tbody>\n",
       "    <tr>\n",
       "      <th>0</th>\n",
       "      <td>Brown, Mia</td>\n",
       "      <td>1103024456</td>\n",
       "      <td>Accountant I</td>\n",
       "      <td>MA</td>\n",
       "      <td>1450</td>\n",
       "      <td>F</td>\n",
       "      <td>Married</td>\n",
       "      <td>US Citizen</td>\n",
       "      <td>Active</td>\n",
       "      <td>Admin Offices</td>\n",
       "      <td>674.28</td>\n",
       "      <td>28</td>\n",
       "      <td>Black or African American</td>\n",
       "    </tr>\n",
       "    <tr>\n",
       "      <th>1</th>\n",
       "      <td>LaRotonda, William</td>\n",
       "      <td>1106026572</td>\n",
       "      <td>Accountant I</td>\n",
       "      <td>MA</td>\n",
       "      <td>1460</td>\n",
       "      <td>M</td>\n",
       "      <td>Divorced</td>\n",
       "      <td>US Citizen</td>\n",
       "      <td>Active</td>\n",
       "      <td>Admin Offices</td>\n",
       "      <td>674.28</td>\n",
       "      <td>50</td>\n",
       "      <td>Black or African American</td>\n",
       "    </tr>\n",
       "    <tr>\n",
       "      <th>2</th>\n",
       "      <td>Steans, Tyrone</td>\n",
       "      <td>1302053333</td>\n",
       "      <td>Accountant I</td>\n",
       "      <td>MA</td>\n",
       "      <td>2703</td>\n",
       "      <td>M</td>\n",
       "      <td>Single</td>\n",
       "      <td>US Citizen</td>\n",
       "      <td>Active</td>\n",
       "      <td>Admin Offices</td>\n",
       "      <td>674.28</td>\n",
       "      <td>43</td>\n",
       "      <td>White</td>\n",
       "    </tr>\n",
       "    <tr>\n",
       "      <th>3</th>\n",
       "      <td>Howard, Estelle</td>\n",
       "      <td>1211050782</td>\n",
       "      <td>Administrative Assistant</td>\n",
       "      <td>MA</td>\n",
       "      <td>2170</td>\n",
       "      <td>F</td>\n",
       "      <td>Married</td>\n",
       "      <td>US Citizen</td>\n",
       "      <td>Terminated for Cause</td>\n",
       "      <td>Admin Offices</td>\n",
       "      <td>47822.00</td>\n",
       "      <td>44</td>\n",
       "      <td>White</td>\n",
       "    </tr>\n",
       "    <tr>\n",
       "      <th>4</th>\n",
       "      <td>Singh, Nan</td>\n",
       "      <td>1307059817</td>\n",
       "      <td>Administrative Assistant</td>\n",
       "      <td>MA</td>\n",
       "      <td>2330</td>\n",
       "      <td>F</td>\n",
       "      <td>Single</td>\n",
       "      <td>US Citizen</td>\n",
       "      <td>Active</td>\n",
       "      <td>Admin Offices</td>\n",
       "      <td>61089.35</td>\n",
       "      <td>33</td>\n",
       "      <td>White</td>\n",
       "    </tr>\n",
       "  </tbody>\n",
       "</table>\n",
       "</div>"
      ],
      "text/plain": [
       "          Employee_Name       EmpID                  Position State   Zip Sex  \\\n",
       "0            Brown, Mia  1103024456              Accountant I    MA  1450   F   \n",
       "1  LaRotonda, William    1106026572              Accountant I    MA  1460  M    \n",
       "2      Steans, Tyrone    1302053333              Accountant I    MA  2703  M    \n",
       "3       Howard, Estelle  1211050782  Administrative Assistant    MA  2170   F   \n",
       "4           Singh, Nan   1307059817  Administrative Assistant    MA  2330   F   \n",
       "\n",
       "  MaritalDesc CitizenDesc      EmploymentStatus     Department  Salaries  age  \\\n",
       "0     Married  US Citizen                Active  Admin Offices    674.28   28   \n",
       "1    Divorced  US Citizen                Active  Admin Offices    674.28   50   \n",
       "2      Single  US Citizen                Active  Admin Offices    674.28   43   \n",
       "3     Married  US Citizen  Terminated for Cause  Admin Offices  47822.00   44   \n",
       "4      Single  US Citizen                Active  Admin Offices  61089.35   33   \n",
       "\n",
       "                        Race  \n",
       "0  Black or African American  \n",
       "1  Black or African American  \n",
       "2                      White  \n",
       "3                      White  \n",
       "4                      White  "
      ]
     },
     "execution_count": 4,
     "metadata": {},
     "output_type": "execute_result"
    }
   ],
   "source": [
    "df.head()"
   ]
  },
  {
   "cell_type": "code",
   "execution_count": 5,
   "id": "bb654cec-4bd0-432d-8ec7-f61779853453",
   "metadata": {},
   "outputs": [
    {
     "data": {
      "text/plain": [
       "Employee_Name        object\n",
       "EmpID                 int64\n",
       "Position             object\n",
       "State                object\n",
       "Zip                   int64\n",
       "Sex                  object\n",
       "MaritalDesc          object\n",
       "CitizenDesc          object\n",
       "EmploymentStatus     object\n",
       "Department           object\n",
       "Salaries            float64\n",
       "age                   int64\n",
       "Race                 object\n",
       "dtype: object"
      ]
     },
     "execution_count": 5,
     "metadata": {},
     "output_type": "execute_result"
    }
   ],
   "source": [
    "df.dtypes"
   ]
  },
  {
   "cell_type": "code",
   "execution_count": 6,
   "id": "a4cb70d6-a7a9-40c2-8347-75ee12e889fc",
   "metadata": {},
   "outputs": [
    {
     "data": {
      "text/plain": [
       "310"
      ]
     },
     "execution_count": 6,
     "metadata": {},
     "output_type": "execute_result"
    }
   ],
   "source": [
    "len(df)"
   ]
  },
  {
   "cell_type": "code",
   "execution_count": 14,
   "id": "b4fc05d0-603b-4646-bc5a-62a565fe4bb5",
   "metadata": {},
   "outputs": [
    {
     "data": {
      "text/plain": [
       "Employee_Name       object\n",
       "EmpID                int64\n",
       "Position            object\n",
       "State               object\n",
       "Zip                  int64\n",
       "Sex                 object\n",
       "MaritalDesc         object\n",
       "CitizenDesc         object\n",
       "EmploymentStatus    object\n",
       "Department          object\n",
       "Salaries             int32\n",
       "age                  int64\n",
       "Race                object\n",
       "dtype: object"
      ]
     },
     "execution_count": 14,
     "metadata": {},
     "output_type": "execute_result"
    }
   ],
   "source": [
    "# Salaries data typ is float let us convert it into int\n",
    "# df1=df.salaries.astype(int)\n",
    "df.Salaries=df.Salaries.astype(int)\n",
    "df.dtypes\n"
   ]
  },
  {
   "cell_type": "code",
   "execution_count": 17,
   "id": "e4d65114-d9d2-45c3-a3f8-b03a0cd21966",
   "metadata": {},
   "outputs": [
    {
     "data": {
      "text/plain": [
       "Employee_Name        object\n",
       "EmpID                 int64\n",
       "Position             object\n",
       "State                object\n",
       "Zip                   int64\n",
       "Sex                  object\n",
       "MaritalDesc          object\n",
       "CitizenDesc          object\n",
       "EmploymentStatus     object\n",
       "Department           object\n",
       "Salaries              int32\n",
       "age                 float64\n",
       "Race                 object\n",
       "dtype: object"
      ]
     },
     "execution_count": 17,
     "metadata": {},
     "output_type": "execute_result"
    }
   ],
   "source": [
    "#Now the datatype has converted into int of salaries\n",
    "# similarly age data type must be float\n",
    "df.age=df.age.astype(float)\n",
    "df.dtypes"
   ]
  },
  {
   "cell_type": "code",
   "execution_count": null,
   "id": "fc4c526d-5508-46f6-9f85-fd2300b3ede7",
   "metadata": {},
   "outputs": [],
   "source": []
  }
 ],
 "metadata": {
  "kernelspec": {
   "display_name": "Python 3 (ipykernel)",
   "language": "python",
   "name": "python3"
  },
  "language_info": {
   "codemirror_mode": {
    "name": "ipython",
    "version": 3
   },
   "file_extension": ".py",
   "mimetype": "text/x-python",
   "name": "python",
   "nbconvert_exporter": "python",
   "pygments_lexer": "ipython3",
   "version": "3.11.7"
  }
 },
 "nbformat": 4,
 "nbformat_minor": 5
}

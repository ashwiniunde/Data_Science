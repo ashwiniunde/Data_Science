{
 "cells": [
  {
   "cell_type": "code",
   "execution_count": 3,
   "id": "c40cea5a-d331-4aef-b34d-bc3bee33dab9",
   "metadata": {},
   "outputs": [],
   "source": [
    "#import necessary libraries\n",
    "import pandas as pd\n",
    "from sklearn.feature_extraction.text import TfidfVectorizer\n",
    "from sklearn.metrics.pairwise import cosine_similarity"
   ]
  },
  {
   "cell_type": "code",
   "execution_count": 5,
   "id": "62fbc0ac-16c4-4893-807a-f40d51fbb6e5",
   "metadata": {},
   "outputs": [
    {
     "data": {
      "text/html": [
       "<div>\n",
       "<style scoped>\n",
       "    .dataframe tbody tr th:only-of-type {\n",
       "        vertical-align: middle;\n",
       "    }\n",
       "\n",
       "    .dataframe tbody tr th {\n",
       "        vertical-align: top;\n",
       "    }\n",
       "\n",
       "    .dataframe thead th {\n",
       "        text-align: right;\n",
       "    }\n",
       "</style>\n",
       "<table border=\"1\" class=\"dataframe\">\n",
       "  <thead>\n",
       "    <tr style=\"text-align: right;\">\n",
       "      <th></th>\n",
       "      <th>Id</th>\n",
       "      <th>Titles</th>\n",
       "      <th>Category</th>\n",
       "      <th>Reviews</th>\n",
       "    </tr>\n",
       "  </thead>\n",
       "  <tbody>\n",
       "    <tr>\n",
       "      <th>0</th>\n",
       "      <td>6973</td>\n",
       "      <td>Toy Story (1995)</td>\n",
       "      <td>Drama, Romance, School, Supernatural</td>\n",
       "      <td>-8.98</td>\n",
       "    </tr>\n",
       "    <tr>\n",
       "      <th>1</th>\n",
       "      <td>6778</td>\n",
       "      <td>Jumanji (1995)</td>\n",
       "      <td>Action, Adventure, Drama, Fantasy, Magic, Mili...</td>\n",
       "      <td>8.88</td>\n",
       "    </tr>\n",
       "    <tr>\n",
       "      <th>2</th>\n",
       "      <td>9702</td>\n",
       "      <td>Grumpier Old Men (1995)</td>\n",
       "      <td>Action, Comedy, Historical, Parody, Samurai, S...</td>\n",
       "      <td>99.00</td>\n",
       "    </tr>\n",
       "    <tr>\n",
       "      <th>3</th>\n",
       "      <td>6769</td>\n",
       "      <td>Waiting to Exhale (1995)</td>\n",
       "      <td>Sci-Fi, Thriller</td>\n",
       "      <td>99.00</td>\n",
       "    </tr>\n",
       "    <tr>\n",
       "      <th>4</th>\n",
       "      <td>1123</td>\n",
       "      <td>Father of the Bride Part II (1995)</td>\n",
       "      <td>Action, Comedy, Historical, Parody, Samurai, S...</td>\n",
       "      <td>-0.44</td>\n",
       "    </tr>\n",
       "  </tbody>\n",
       "</table>\n",
       "</div>"
      ],
      "text/plain": [
       "     Id                              Titles  \\\n",
       "0  6973                    Toy Story (1995)   \n",
       "1  6778                      Jumanji (1995)   \n",
       "2  9702             Grumpier Old Men (1995)   \n",
       "3  6769            Waiting to Exhale (1995)   \n",
       "4  1123  Father of the Bride Part II (1995)   \n",
       "\n",
       "                                            Category  Reviews  \n",
       "0               Drama, Romance, School, Supernatural    -8.98  \n",
       "1  Action, Adventure, Drama, Fantasy, Magic, Mili...     8.88  \n",
       "2  Action, Comedy, Historical, Parody, Samurai, S...    99.00  \n",
       "3                                   Sci-Fi, Thriller    99.00  \n",
       "4  Action, Comedy, Historical, Parody, Samurai, S...    -0.44  "
      ]
     },
     "execution_count": 5,
     "metadata": {},
     "output_type": "execute_result"
    }
   ],
   "source": [
    "#load the csv\n",
    "data=pd.read_csv(\"Entertainment.csv\")\n",
    "data.head()"
   ]
  },
  {
   "cell_type": "code",
   "execution_count": 9,
   "id": "38a7d786-8bb8-4524-bffb-abd01b3d76ad",
   "metadata": {},
   "outputs": [],
   "source": [
    "#Step1:Preprocess the \"Category\" columns using TF-IDF\n",
    "tfidf=TfidfVectorizer(stop_words=\"english\")#Remove common stopwords\n",
    "tfidf_matrix=tfidf.fit_transform(data['Category'])#Fit and transform the category data"
   ]
  },
  {
   "cell_type": "code",
   "execution_count": 11,
   "id": "c88d8b66-ddc1-4c8b-90b7-7dbe0cd8f7c0",
   "metadata": {},
   "outputs": [],
   "source": [
    "#Step2:Compute the cosine similarity between titles\n",
    "cosine_sim=cosine_similarity(tfidf_matrix,tfidf_matrix)"
   ]
  },
  {
   "cell_type": "code",
   "execution_count": 27,
   "id": "7ca29d76-9407-4a5e-99cf-02af5fde18de",
   "metadata": {},
   "outputs": [],
   "source": [
    "#Step3:Create a function to recommend titles based on similarity\n",
    "def get_recommendation(title,cosine_sim=cosine_sim):\n",
    "    #Get the index of the title that matches the input title\n",
    "    idx=data[data['Titles']==title].index[0]\n",
    "    '''\n",
    "    data['Titles]==title\n",
    "    Tgis creates a boolean mask(a series of true and false values)\n",
    "    indicating which rows in the Titles column match the input title. \n",
    "    For example, if the title is \"Toy Story (1995)\", this comparison results in something Like:\n",
    "    0 True\n",
    "    1 False\n",
    "    2 False\n",
    "    Name: Titles, dtype: bool\n",
    "    Why [0] is Needed:\n",
    "             Even though the title should be unique,'''\n",
    "    \n",
    "    #Get the pairwise similarity scores of all titles with that title\n",
    "    sim_scores=list(enumerate(cosine_sim[idx]))\n",
    "\n",
    "    #sort the title based on the similarity scores in descending order\n",
    "    sim_scores=sorted(sim_scores,key=lambda x:x[1],reverse=True)\n",
    "\n",
    "    #get the indices of the most similar titles\n",
    "    sim_indices=[i[0] for i in sim_scores[1:6]]\n",
    "    #Exclude the first as it is the title itself\n",
    "\n",
    "    #return the top 5 most similar title\n",
    "    return data['Titles'].iloc[sim_indices]\n",
    "\n"
   ]
  },
  {
   "cell_type": "code",
   "execution_count": 29,
   "id": "d9ec2bcc-673b-4cb5-afa3-cc01959ac735",
   "metadata": {},
   "outputs": [],
   "source": [
    "#Test the recommendation system with an example title\n",
    "example_title=\"Toy Story (1995)\"\n",
    "recommend_titles=get_recommendation(example_title)"
   ]
  },
  {
   "cell_type": "code",
   "execution_count": 31,
   "id": "8f58b2d0-3adc-47c0-aa3a-1e08602f1a9e",
   "metadata": {},
   "outputs": [
    {
     "name": "stdout",
     "output_type": "stream",
     "text": [
      "Recommendation for 'Toy Story (1995)':\n",
      "Othello (1995)\n",
      "Sense and Sensibility (1995)\n",
      "Dracula: Dead and Loving It (1995)\n",
      "American President, The (1995)\n",
      "When Night Is Falling (1995)\n"
     ]
    }
   ],
   "source": [
    "#Print the recommendations\n",
    "print(f\"Recommendation for '{example_title}':\")\n",
    "for title in recommend_titles:\n",
    "    print(title)"
   ]
  },
  {
   "cell_type": "code",
   "execution_count": null,
   "id": "39f7007f-5dec-4374-8415-d1c679462b3d",
   "metadata": {},
   "outputs": [],
   "source": []
  }
 ],
 "metadata": {
  "kernelspec": {
   "display_name": "Python 3 (ipykernel)",
   "language": "python",
   "name": "python3"
  },
  "language_info": {
   "codemirror_mode": {
    "name": "ipython",
    "version": 3
   },
   "file_extension": ".py",
   "mimetype": "text/x-python",
   "name": "python",
   "nbconvert_exporter": "python",
   "pygments_lexer": "ipython3",
   "version": "3.11.7"
  }
 },
 "nbformat": 4,
 "nbformat_minor": 5
}

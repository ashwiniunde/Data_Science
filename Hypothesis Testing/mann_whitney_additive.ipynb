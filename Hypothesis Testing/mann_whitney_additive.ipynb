{
 "cells": [
  {
   "cell_type": "markdown",
   "id": "7ad76072-4abc-47bb-800c-946afb9d72ba",
   "metadata": {},
   "source": [
    "# Mann-Whiteney Test"
   ]
  },
  {
   "cell_type": "raw",
   "id": "54fe92c0-1029-4b94-a62e-cdb134f62465",
   "metadata": {},
   "source": [
    "Use to compare 2 population with external std. deviation \n",
    "Use when data is not normally distributed"
   ]
  },
  {
   "cell_type": "markdown",
   "id": "124abe6c-b0fb-4bb8-bdf1-5d80f181e6c2",
   "metadata": {},
   "source": [
    "# Objective::check there any diff in performance if additive is added or not"
   ]
  },
  {
   "cell_type": "code",
   "execution_count": 1,
   "id": "1a1e33dd-2b6e-4b5a-844c-000292d2d528",
   "metadata": {},
   "outputs": [],
   "source": [
    "import pandas as pd \n",
    "import numpy as np \n",
    "import scipy \n",
    "from scipy import stats"
   ]
  },
  {
   "cell_type": "code",
   "execution_count": 14,
   "id": "2a022a4d-9a43-48d5-810e-926ba70a3842",
   "metadata": {},
   "outputs": [],
   "source": [
    "fuel=pd.read_csv(\"mann_whitney_additive.csv\")"
   ]
  },
  {
   "cell_type": "code",
   "execution_count": 16,
   "id": "9adb175f-b5a7-40eb-a9f4-1ed52850fd90",
   "metadata": {},
   "outputs": [
    {
     "data": {
      "text/html": [
       "<div>\n",
       "<style scoped>\n",
       "    .dataframe tbody tr th:only-of-type {\n",
       "        vertical-align: middle;\n",
       "    }\n",
       "\n",
       "    .dataframe tbody tr th {\n",
       "        vertical-align: top;\n",
       "    }\n",
       "\n",
       "    .dataframe thead th {\n",
       "        text-align: right;\n",
       "    }\n",
       "</style>\n",
       "<table border=\"1\" class=\"dataframe\">\n",
       "  <thead>\n",
       "    <tr style=\"text-align: right;\">\n",
       "      <th></th>\n",
       "      <th>Without additive</th>\n",
       "      <th>With Additive</th>\n",
       "    </tr>\n",
       "  </thead>\n",
       "  <tbody>\n",
       "    <tr>\n",
       "      <th>0</th>\n",
       "      <td>12.5</td>\n",
       "      <td>16.0</td>\n",
       "    </tr>\n",
       "    <tr>\n",
       "      <th>1</th>\n",
       "      <td>19.0</td>\n",
       "      <td>22.0</td>\n",
       "    </tr>\n",
       "    <tr>\n",
       "      <th>2</th>\n",
       "      <td>15.0</td>\n",
       "      <td>18.5</td>\n",
       "    </tr>\n",
       "    <tr>\n",
       "      <th>3</th>\n",
       "      <td>19.5</td>\n",
       "      <td>22.5</td>\n",
       "    </tr>\n",
       "    <tr>\n",
       "      <th>4</th>\n",
       "      <td>12.5</td>\n",
       "      <td>15.0</td>\n",
       "    </tr>\n",
       "  </tbody>\n",
       "</table>\n",
       "</div>"
      ],
      "text/plain": [
       "   Without additive  With Additive\n",
       "0              12.5           16.0\n",
       "1              19.0           22.0\n",
       "2              15.0           18.5\n",
       "3              19.5           22.5\n",
       "4              12.5           15.0"
      ]
     },
     "execution_count": 16,
     "metadata": {},
     "output_type": "execute_result"
    }
   ],
   "source": [
    "fuel.head()"
   ]
  },
  {
   "cell_type": "code",
   "execution_count": 21,
   "id": "2c51faff-0079-4d13-8466-9cfb4f05b179",
   "metadata": {},
   "outputs": [],
   "source": [
    "fuel.columns=[\"Without_additive\",\"With_additive\"]"
   ]
  },
  {
   "cell_type": "code",
   "execution_count": 22,
   "id": "6bd96eb3-c075-4c49-a817-ad863c128ad8",
   "metadata": {},
   "outputs": [
    {
     "name": "stdout",
     "output_type": "stream",
     "text": [
      "Without additive normality ShapiroResult(statistic=0.9352247714996338, pvalue=0.501198410987854)\n",
      "With Additive normality ShapiroResult(statistic=0.8373826742172241, pvalue=0.041048310697078705)\n"
     ]
    }
   ],
   "source": [
    "# Normality Test\n",
    "print(\"Without additive normality\", stats.shapiro(fuel.Without_additive))\n",
    "#p-value=0.50>0.05 ::H0 is accepted\n",
    "print(\"With Additive normality\",stats.shapiro(fuel.With_additive))\n",
    "#p=0.041 <0.05::reject H0 data is not normal\n",
    "#Mann-Whitney U test"
   ]
  },
  {
   "cell_type": "code",
   "execution_count": 25,
   "id": "1d40bc5f-5279-4b13-ab25-4421427ea902",
   "metadata": {},
   "outputs": [
    {
     "name": "stdout",
     "output_type": "stream",
     "text": [
      "MannWhitney Test Result:: MannwhitneyuResult(statistic=39.5, pvalue=0.4457311042015709)\n"
     ]
    }
   ],
   "source": [
    "mannwhitney_test=stats.mannwhitneyu(fuel.Without_additive,fuel.With_additive)\n",
    "print(\"MannWhitney Test Result::\",mannwhitney_test)"
   ]
  },
  {
   "cell_type": "markdown",
   "id": "3d0bb8db-1a66-40f9-9f12-dfee4ddfebd7",
   "metadata": {},
   "source": [
    "# H0:no diff in performance bet without and with additive\r",
    "# N\n",
    "H1:A significant difference# \r\n",
    "Since p value (0.445)>0.05 so accepte H0 \r\n",
    "#conclusin:::adding fuel additive does not significanlt impact on performan             # ce\r\n",
    "Applies the mann whitney U test to chk uf there significant d                iff\r\n",
    "H0:no                 diff\r\n",
    "h1:diff is there"
   ]
  }
 ],
 "metadata": {
  "kernelspec": {
   "display_name": "Python 3 (ipykernel)",
   "language": "python",
   "name": "python3"
  },
  "language_info": {
   "codemirror_mode": {
    "name": "ipython",
    "version": 3
   },
   "file_extension": ".py",
   "mimetype": "text/x-python",
   "name": "python",
   "nbconvert_exporter": "python",
   "pygments_lexer": "ipython3",
   "version": "3.11.7"
  }
 },
 "nbformat": 4,
 "nbformat_minor": 5
}

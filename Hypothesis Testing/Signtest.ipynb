{
 "cells": [
  {
   "cell_type": "markdown",
   "id": "c9b870cb-2162-49a8-94a1-1852c0fadfa2",
   "metadata": {},
   "source": [
    "# Understanding the Sign Test\n",
    "\n",
    "The sign test is a non-parametric statistical test used to determine if there's \n",
    "a statistically significant difference between a single sample's median and a \n",
    "hypothesized median value. It's particularly useful when Data is not normally distributed.\n",
    "\n",
    "Use to compare 1 population with external std. deviation \n",
    "Use when data is not normally distributed"
   ]
  },
  {
   "cell_type": "code",
   "execution_count": 2,
   "id": "4e0b0341-e6c8-4a06-9809-7d6e49384a58",
   "metadata": {},
   "outputs": [],
   "source": [
    "import pandas as pd \n",
    "import numpy as np\n",
    "import scipy \n",
    "from scipy import stats \n",
    "#provides the statitsical function\n",
    "#stats contains a veriety of statistsical test\n",
    "from statsmodels.stats import descriptivestats as sd\n",
    "#provide descriptive statistical tools ,including sign_test"
   ]
  },
  {
   "cell_type": "markdown",
   "id": "4a1e4ae5-ad90-43d1-9e5e-78134b6cc59b",
   "metadata": {},
   "source": [
    "# 1 sample sign test\n",
    "# Whenever there is single sample and data is not normal"
   ]
  },
  {
   "cell_type": "code",
   "execution_count": 15,
   "id": "fe0a5540-94a4-44b1-a7a8-eb742406c3ee",
   "metadata": {},
   "outputs": [
    {
     "data": {
      "text/html": [
       "<div>\n",
       "<style scoped>\n",
       "    .dataframe tbody tr th:only-of-type {\n",
       "        vertical-align: middle;\n",
       "    }\n",
       "\n",
       "    .dataframe tbody tr th {\n",
       "        vertical-align: top;\n",
       "    }\n",
       "\n",
       "    .dataframe thead th {\n",
       "        text-align: right;\n",
       "    }\n",
       "</style>\n",
       "<table border=\"1\" class=\"dataframe\">\n",
       "  <thead>\n",
       "    <tr style=\"text-align: right;\">\n",
       "      <th></th>\n",
       "      <th>Scores</th>\n",
       "    </tr>\n",
       "  </thead>\n",
       "  <tbody>\n",
       "    <tr>\n",
       "      <th>0</th>\n",
       "      <td>60</td>\n",
       "    </tr>\n",
       "    <tr>\n",
       "      <th>1</th>\n",
       "      <td>75</td>\n",
       "    </tr>\n",
       "    <tr>\n",
       "      <th>2</th>\n",
       "      <td>90</td>\n",
       "    </tr>\n",
       "    <tr>\n",
       "      <th>3</th>\n",
       "      <td>99</td>\n",
       "    </tr>\n",
       "    <tr>\n",
       "      <th>4</th>\n",
       "      <td>98</td>\n",
       "    </tr>\n",
       "    <tr>\n",
       "      <th>5</th>\n",
       "      <td>80</td>\n",
       "    </tr>\n",
       "    <tr>\n",
       "      <th>6</th>\n",
       "      <td>90</td>\n",
       "    </tr>\n",
       "    <tr>\n",
       "      <th>7</th>\n",
       "      <td>100</td>\n",
       "    </tr>\n",
       "    <tr>\n",
       "      <th>8</th>\n",
       "      <td>70</td>\n",
       "    </tr>\n",
       "    <tr>\n",
       "      <th>9</th>\n",
       "      <td>75</td>\n",
       "    </tr>\n",
       "    <tr>\n",
       "      <th>10</th>\n",
       "      <td>72</td>\n",
       "    </tr>\n",
       "    <tr>\n",
       "      <th>11</th>\n",
       "      <td>71</td>\n",
       "    </tr>\n",
       "    <tr>\n",
       "      <th>12</th>\n",
       "      <td>70</td>\n",
       "    </tr>\n",
       "    <tr>\n",
       "      <th>13</th>\n",
       "      <td>98</td>\n",
       "    </tr>\n",
       "    <tr>\n",
       "      <th>14</th>\n",
       "      <td>97</td>\n",
       "    </tr>\n",
       "    <tr>\n",
       "      <th>15</th>\n",
       "      <td>90</td>\n",
       "    </tr>\n",
       "    <tr>\n",
       "      <th>16</th>\n",
       "      <td>97</td>\n",
       "    </tr>\n",
       "    <tr>\n",
       "      <th>17</th>\n",
       "      <td>99</td>\n",
       "    </tr>\n",
       "    <tr>\n",
       "      <th>18</th>\n",
       "      <td>65</td>\n",
       "    </tr>\n",
       "    <tr>\n",
       "      <th>19</th>\n",
       "      <td>88</td>\n",
       "    </tr>\n",
       "  </tbody>\n",
       "</table>\n",
       "</div>"
      ],
      "text/plain": [
       "    Scores\n",
       "0       60\n",
       "1       75\n",
       "2       90\n",
       "3       99\n",
       "4       98\n",
       "5       80\n",
       "6       90\n",
       "7      100\n",
       "8       70\n",
       "9       75\n",
       "10      72\n",
       "11      71\n",
       "12      70\n",
       "13      98\n",
       "14      97\n",
       "15      90\n",
       "16      97\n",
       "17      99\n",
       "18      65\n",
       "19      88"
      ]
     },
     "execution_count": 15,
     "metadata": {},
     "output_type": "execute_result"
    }
   ],
   "source": [
    "\n",
    "marks=pd.read_csv(\"C:/14_Hypothesis_Testing/Signtest.csv\")\n",
    "marks"
   ]
  },
  {
   "cell_type": "markdown",
   "id": "2039949b-2b30-4a7d-838e-a476a5a841f8",
   "metadata": {},
   "source": [
    "# QQ plot to check normality\n",
    "If the points on the plot deviate significantly from a straight line, it indicates non-normality"
   ]
  },
  {
   "cell_type": "code",
   "execution_count": 14,
   "id": "6a7a1eca-8d17-4bad-8be7-bd803ff261ad",
   "metadata": {},
   "outputs": [
    {
     "data": {
      "text/plain": [
       "((array([-1.8241636 , -1.38768012, -1.11829229, -0.91222575, -0.73908135,\n",
       "         -0.5857176 , -0.44506467, -0.31273668, -0.18568928, -0.06158146,\n",
       "          0.06158146,  0.18568928,  0.31273668,  0.44506467,  0.5857176 ,\n",
       "          0.73908135,  0.91222575,  1.11829229,  1.38768012,  1.8241636 ]),\n",
       "  array([ 60,  65,  70,  70,  71,  72,  75,  75,  80,  88,  90,  90,  90,\n",
       "          97,  97,  98,  98,  99,  99, 100], dtype=int64)),\n",
       " (13.387642315268574, 84.2, 0.9528719246176001))"
      ]
     },
     "execution_count": 14,
     "metadata": {},
     "output_type": "execute_result"
    },
    {
     "data": {
      "image/png": "[encoded data removed]",
      "text/plain": [
       "<Figure size 640x480 with 1 Axes>"
      ]
     },
     "metadata": {},
     "output_type": "display_data"
    }
   ],
   "source": [
    "# Here we are checking that how data is distrtibuted\n",
    "##Normal QQ plot\n",
    "import pylab\n",
    "stats.probplot(marks.Scores,dist='norm',plot=pylab)\n",
    "#create a QQ plot to visually check if the data follows\n",
    "#test for normally\n",
    "# 1. If the points on a QQ plot fall roughly along a straight diagonal line, \n",
    "        #it suggests the data is normally distribute\n",
    "# 2. When points deviate significantly from the straight line, \n",
    "        #it indicates the data is not normally distributed. \n",
    "\n",
    "# so here data is not normally distributed"
   ]
  },
  {
   "cell_type": "markdown",
   "id": "2eeb9681-fb4a-4673-b911-e33bda557778",
   "metadata": {},
   "source": [
    "# Histogram to check that data is normally distributed or not"
   ]
  },
  {
   "cell_type": "code",
   "execution_count": 10,
   "id": "d1e7995c-8339-4fb8-933f-78f5a1e9b249",
   "metadata": {},
   "outputs": [
    {
     "data": {
      "image/png": "[encoded data removed]",
      "text/plain": [
       "<Figure size 640x480 with 1 Axes>"
      ]
     },
     "metadata": {},
     "output_type": "display_data"
    }
   ],
   "source": [
    "\n",
    "import matplotlib.pyplot as plt\n",
    "plt.hist(marks['Scores'], bins=10, edgecolor='black')  # Create the histogram\n",
    "plt.title('Histogram of Marks')\n",
    "plt.xlabel('Marks')\n",
    "plt.ylabel('Frequency')\n",
    "plt.show()\n",
    "# A symmetrical histogram suggests that the data is evenly distributed around the mean.\n",
    "# Here our data not normally distributed\n"
   ]
  },
  {
   "cell_type": "code",
   "execution_count": 16,
   "id": "1d35276f-c11b-412d-8d4b-9f22be5cdb6e",
   "metadata": {},
   "outputs": [
    {
     "name": "stdout",
     "output_type": "stream",
     "text": [
      "Shapiro Test ShapiroResult(statistic=0.8875985741615295, pvalue=0.024299481883645058)\n"
     ]
    }
   ],
   "source": [
    "shapiro_test=stats.shapiro(marks.Scores)\n",
    "#perform the shapiro-wilk test for normality\n",
    "#H0(null hypothesis): the data is normally distrubuted\n",
    "#Ha(alternative hypothesis):the data is not normally distrubuted\n",
    "#Output a test statistics\n",
    "print(\"Shapiro Test\",shapiro_test)\n",
    "#p_value is 0.024<0.05,data is not normal\n"
   ]
  },
  {
   "cell_type": "markdown",
   "id": "aaf979af-27a8-4411-80f8-8c41eebf18bd",
   "metadata": {},
   "source": [
    "# If the p-value is low (typically less than 0.05), you reject the null hypothesis that the data is normally distributed.\n"
   ]
  },
  {
   "cell_type": "code",
   "execution_count": 17,
   "id": "61d2f04e-db2f-4c33-a3c7-413f411b670e",
   "metadata": {},
   "outputs": [
    {
     "name": "stdout",
     "output_type": "stream",
     "text": [
      "count     20.00000\n",
      "mean      84.20000\n",
      "std       13.33614\n",
      "min       60.00000\n",
      "25%       71.75000\n",
      "50%       89.00000\n",
      "75%       97.25000\n",
      "max      100.00000\n",
      "Name: Scores, dtype: float64\n"
     ]
    }
   ],
   "source": [
    "#Descriptive statistics\n",
    "print(marks.Scores.describe())\n",
    "#mean=84.20000 anf median=89.00000 #both are not equal \n"
   ]
  },
  {
   "cell_type": "code",
   "execution_count": 21,
   "id": "c82b9241-3d6d-407f-b620-6c35ee16ce30",
   "metadata": {},
   "outputs": [
    {
     "data": {
      "text/plain": [
       "(1.0, 0.8238029479980469)"
      ]
     },
     "execution_count": 21,
     "metadata": {},
     "output_type": "execute_result"
    }
   ],
   "source": [
    "# 1-sample sign test\n",
    "sign_test_result=sd.sign_test(marks.Scores,mu0=marks.Scores.mean()) \n",
    "sign_test_result\n",
    "#Interpretation::\n",
    "    #H0:median=mean value \n",
    "    #Ha:median!=mean\n",
    "    #Since the p-value(0.82) is greater than 0.05, we fail to reject  null hypothesisis\n"
   ]
  },
  {
   "cell_type": "markdown",
   "id": "76ac08ba-2ebc-458b-bcbf-5f29a96eea22",
   "metadata": {},
   "source": [
    "# conclusion::The median and mean of Scores are statistically not similar\n",
    "# Since the p-value(0.82) is greater than 0.05, we fail to reject  null hypothesisis\n"
   ]
  },
  {
   "cell_type": "raw",
   "id": "8a44375c-669d-4eab-8e51-d02ac8f32773",
   "metadata": {},
   "source": [
    "Null Hypothesis (H0): The data is normally distributed.\n",
    "Alternative Hypothesis (Ha): The data is not normally distributed."
   ]
  },
  {
   "cell_type": "code",
   "execution_count": null,
   "id": "ccc63063-1450-4904-8094-735d96aae2b1",
   "metadata": {},
   "outputs": [],
   "source": []
  }
 ],
 "metadata": {
  "kernelspec": {
   "display_name": "Python 3 (ipykernel)",
   "language": "python",
   "name": "python3"
  },
  "language_info": {
   "codemirror_mode": {
    "name": "ipython",
    "version": 3
   },
   "file_extension": ".py",
   "mimetype": "text/x-python",
   "name": "python",
   "nbconvert_exporter": "python",
   "pygments_lexer": "ipython3",
   "version": "3.11.7"
  }
 },
 "nbformat": 4,
 "nbformat_minor": 5
}

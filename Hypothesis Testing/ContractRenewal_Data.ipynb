{
 "cells": [
  {
   "cell_type": "markdown",
   "id": "f85a5674-f3bb-4dd9-8197-524f4f8004a6",
   "metadata": {},
   "source": [
    "# One way Anova test"
   ]
  },
  {
   "cell_type": "code",
   "execution_count": null,
   "id": "90cb0e60-5a15-42c8-8a1b-62f73c414392",
   "metadata": {},
   "outputs": [],
   "source": [
    "Aniva stands for Analysis of Variance"
   ]
  },
  {
   "cell_type": "markdown",
   "id": "1c887784-a9fe-450b-a39b-a1797f98fc8e",
   "metadata": {},
   "source": [
    "# Objective : it is the transaction times for the 3 supplier are not\n",
    "# significantly different"
   ]
  },
  {
   "cell_type": "code",
   "execution_count": 1,
   "id": "a2d84897-c962-4491-a65c-a8f32951df7f",
   "metadata": {},
   "outputs": [],
   "source": [
    "#Step 1. import libraries\n",
    "import pandas as pd \n",
    "import numpy as np \n",
    "import scipy \n",
    "from scipy import stats"
   ]
  },
  {
   "cell_type": "code",
   "execution_count": 2,
   "id": "f00bf08d-c13f-4e8d-a62e-46472a1b0c9a",
   "metadata": {},
   "outputs": [],
   "source": [
    "# Step 2. Load dataset\n",
    "contract=pd.read_excel(\"ContractRenewal_Data(unstacked).xlsx\")"
   ]
  },
  {
   "cell_type": "code",
   "execution_count": 3,
   "id": "d54ce7b5-30bb-4684-bcf4-fc7683e455f0",
   "metadata": {},
   "outputs": [
    {
     "data": {
      "text/html": [
       "<div>\n",
       "<style scoped>\n",
       "    .dataframe tbody tr th:only-of-type {\n",
       "        vertical-align: middle;\n",
       "    }\n",
       "\n",
       "    .dataframe tbody tr th {\n",
       "        vertical-align: top;\n",
       "    }\n",
       "\n",
       "    .dataframe thead th {\n",
       "        text-align: right;\n",
       "    }\n",
       "</style>\n",
       "<table border=\"1\" class=\"dataframe\">\n",
       "  <thead>\n",
       "    <tr style=\"text-align: right;\">\n",
       "      <th></th>\n",
       "      <th>Supplier A</th>\n",
       "      <th>Supplier B</th>\n",
       "      <th>Supplier C</th>\n",
       "    </tr>\n",
       "  </thead>\n",
       "  <tbody>\n",
       "    <tr>\n",
       "      <th>0</th>\n",
       "      <td>6.15</td>\n",
       "      <td>7.87</td>\n",
       "      <td>7.41</td>\n",
       "    </tr>\n",
       "    <tr>\n",
       "      <th>1</th>\n",
       "      <td>6.22</td>\n",
       "      <td>5.21</td>\n",
       "      <td>3.61</td>\n",
       "    </tr>\n",
       "    <tr>\n",
       "      <th>2</th>\n",
       "      <td>6.76</td>\n",
       "      <td>7.94</td>\n",
       "      <td>7.23</td>\n",
       "    </tr>\n",
       "    <tr>\n",
       "      <th>3</th>\n",
       "      <td>4.29</td>\n",
       "      <td>7.36</td>\n",
       "      <td>5.53</td>\n",
       "    </tr>\n",
       "    <tr>\n",
       "      <th>4</th>\n",
       "      <td>7.08</td>\n",
       "      <td>6.17</td>\n",
       "      <td>3.97</td>\n",
       "    </tr>\n",
       "    <tr>\n",
       "      <th>...</th>\n",
       "      <td>...</td>\n",
       "      <td>...</td>\n",
       "      <td>...</td>\n",
       "    </tr>\n",
       "    <tr>\n",
       "      <th>115</th>\n",
       "      <td>5.85</td>\n",
       "      <td>4.53</td>\n",
       "      <td>4.27</td>\n",
       "    </tr>\n",
       "    <tr>\n",
       "      <th>116</th>\n",
       "      <td>5.04</td>\n",
       "      <td>8.06</td>\n",
       "      <td>6.39</td>\n",
       "    </tr>\n",
       "    <tr>\n",
       "      <th>117</th>\n",
       "      <td>5.68</td>\n",
       "      <td>7.14</td>\n",
       "      <td>4.60</td>\n",
       "    </tr>\n",
       "    <tr>\n",
       "      <th>118</th>\n",
       "      <td>4.77</td>\n",
       "      <td>4.84</td>\n",
       "      <td>6.15</td>\n",
       "    </tr>\n",
       "    <tr>\n",
       "      <th>119</th>\n",
       "      <td>3.57</td>\n",
       "      <td>4.55</td>\n",
       "      <td>5.28</td>\n",
       "    </tr>\n",
       "  </tbody>\n",
       "</table>\n",
       "<p>120 rows × 3 columns</p>\n",
       "</div>"
      ],
      "text/plain": [
       "     Supplier A  Supplier B  Supplier C\n",
       "0          6.15        7.87        7.41\n",
       "1          6.22        5.21        3.61\n",
       "2          6.76        7.94        7.23\n",
       "3          4.29        7.36        5.53\n",
       "4          7.08        6.17        3.97\n",
       "..          ...         ...         ...\n",
       "115        5.85        4.53        4.27\n",
       "116        5.04        8.06        6.39\n",
       "117        5.68        7.14        4.60\n",
       "118        4.77        4.84        6.15\n",
       "119        3.57        4.55        5.28\n",
       "\n",
       "[120 rows x 3 columns]"
      ]
     },
     "execution_count": 3,
     "metadata": {},
     "output_type": "execute_result"
    }
   ],
   "source": [
    "contract"
   ]
  },
  {
   "cell_type": "code",
   "execution_count": 5,
   "id": "df46c177-3211-47fa-bd09-ccae84195146",
   "metadata": {},
   "outputs": [],
   "source": [
    "contract.columns=[\"SupplierA\",\"SupplierB\",\"SupplierC\"]"
   ]
  },
  {
   "cell_type": "code",
   "execution_count": 10,
   "id": "482c4dc0-c41e-4ca9-9859-ecfc1c4b6cf5",
   "metadata": {},
   "outputs": [
    {
     "name": "stdout",
     "output_type": "stream",
     "text": [
      "Supplier A Normality ShapiroResult(statistic=0.9940786957740784, pvalue=0.8961992859840393)\n",
      "Supplier B Normality ShapiroResult(statistic=0.9912325143814087, pvalue=0.6483432650566101)\n",
      "Supplier C Normality ShapiroResult(statistic=0.9904158711433411, pvalue=0.5719417929649353)\n"
     ]
    }
   ],
   "source": [
    "# Step 3. Normality Test\n",
    "print(\"Supplier A Normality\",stats.shapiro(contract.SupplierA))\n",
    "print(\"Supplier B Normality\",stats.shapiro(contract.SupplierB))\n",
    "print(\"Supplier C Normality\",stats.shapiro(contract.SupplierC))\n",
    "#Since all p value are greater than 0.05 hence fail to reject null hypothesis\n",
    "#data is normal  \n",
    "#Accepted H0"
   ]
  },
  {
   "cell_type": "code",
   "execution_count": 16,
   "id": "7004c2cb-9604-4705-b300-33e246cbd41e",
   "metadata": {},
   "outputs": [
    {
     "name": "stdout",
     "output_type": "stream",
     "text": [
      "Leave Test (Variance) LeveneResult(statistic=0.25183988720942463, pvalue=0.7775071819400866)\n"
     ]
    }
   ],
   "source": [
    "\n",
    "#Variance Test (Levene’s Test)\n",
    "levene_test = scipy.stats.levene(contract.SupplierA,contract.SupplierB,contract.SupplierC)\n",
    "print(\"Leave Test (Variance)\",levene_test) \n",
    "#H0 :data is having equal variance\n",
    "#H1 :data is not having equal variance\n",
    "#p value is =0.7775,H0 is accepted"
   ]
  },
  {
   "cell_type": "code",
   "execution_count": 15,
   "id": "548dab36-2b0d-48e7-8c0f-d4035a3ff78a",
   "metadata": {},
   "outputs": [
    {
     "name": "stdout",
     "output_type": "stream",
     "text": [
      "One way Anova: F_onewayResult(statistic=2.280378701368123, pvalue=0.10373295731933224)\n"
     ]
    }
   ],
   "source": [
    "#Anova Test\n",
    "anova_result=stats.f_oneway(contract.SupplierA,contract.SupplierB,contract.SupplierC)\n",
    "print(\"One way Anova:\",anova_result)\n",
    "#Result :: p value is:0.103\n",
    "#H0 :: all supplier have same mean transaction time \n",
    "#H1:: At least one supplier have the diff mean\n",
    "#since  the p value is 0.103 is greater than 0.05  so we fail to reject H0\n"
   ]
  },
  {
   "cell_type": "markdown",
   "id": "af7a1a56-de13-47d5-beee-bd16ad0c182b",
   "metadata": {},
   "source": [
    "# conclusion :: There is no significant difference in transaction\n",
    "                # times among the three suppliers\n"
   ]
  }
 ],
 "metadata": {
  "kernelspec": {
   "display_name": "Python 3 (ipykernel)",
   "language": "python",
   "name": "python3"
  },
  "language_info": {
   "codemirror_mode": {
    "name": "ipython",
    "version": 3
   },
   "file_extension": ".py",
   "mimetype": "text/x-python",
   "name": "python",
   "nbconvert_exporter": "python",
   "pygments_lexer": "ipython3",
   "version": "3.11.7"
  }
 },
 "nbformat": 4,
 "nbformat_minor": 5
}

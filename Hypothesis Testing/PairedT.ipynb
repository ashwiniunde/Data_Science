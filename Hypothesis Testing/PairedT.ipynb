{
 "cells": [
  {
   "cell_type": "markdown",
   "id": "6b05df0c-5e7e-47d8-93a4-91c73acba93d",
   "metadata": {},
   "source": [
    "# Paired T Test"
   ]
  },
  {
   "cell_type": "markdown",
   "id": "8f066b34-42e7-4bea-947f-36b48777c081",
   "metadata": {},
   "source": [
    "# Objective ::check whether there is a diff bet transaction time of supplier\n",
    "Use to compare2 population with external std. dev. \n",
    "Use when data is normally distrubuted"
   ]
  },
  {
   "cell_type": "code",
   "execution_count": null,
   "id": "8a1f3b0d-e3be-4629-bec0-737a7283a42c",
   "metadata": {},
   "outputs": [],
   "source": [
    "Use when "
   ]
  },
  {
   "cell_type": "code",
   "execution_count": 30,
   "id": "55ee5d81-e760-4326-acdd-f5bbc0e84210",
   "metadata": {},
   "outputs": [],
   "source": [
    "#Step 1: Import Necessary Libraries\n",
    "import pandas as pd \n",
    "import numpy as numpy\n",
    "\n"
   ]
  },
  {
   "cell_type": "code",
   "execution_count": 34,
   "id": "5087f491-908e-41f1-a356-b1ce34de94c8",
   "metadata": {},
   "outputs": [],
   "source": [
    "#Step 2: Load the Data\n",
    "sup=pd.read_csv(\"pairedT.csv\")"
   ]
  },
  {
   "cell_type": "code",
   "execution_count": 4,
   "id": "d17e7aa0-b4b3-44de-b72d-fd8f726687ba",
   "metadata": {},
   "outputs": [
    {
     "data": {
      "text/html": [
       "<div>\n",
       "<style scoped>\n",
       "    .dataframe tbody tr th:only-of-type {\n",
       "        vertical-align: middle;\n",
       "    }\n",
       "\n",
       "    .dataframe tbody tr th {\n",
       "        vertical-align: top;\n",
       "    }\n",
       "\n",
       "    .dataframe thead th {\n",
       "        text-align: right;\n",
       "    }\n",
       "</style>\n",
       "<table border=\"1\" class=\"dataframe\">\n",
       "  <thead>\n",
       "    <tr style=\"text-align: right;\">\n",
       "      <th></th>\n",
       "      <th>SupplierA</th>\n",
       "      <th>SupplierB</th>\n",
       "    </tr>\n",
       "  </thead>\n",
       "  <tbody>\n",
       "    <tr>\n",
       "      <th>0</th>\n",
       "      <td>6.15</td>\n",
       "      <td>7.15</td>\n",
       "    </tr>\n",
       "    <tr>\n",
       "      <th>1</th>\n",
       "      <td>6.22</td>\n",
       "      <td>7.22</td>\n",
       "    </tr>\n",
       "    <tr>\n",
       "      <th>2</th>\n",
       "      <td>6.76</td>\n",
       "      <td>7.76</td>\n",
       "    </tr>\n",
       "    <tr>\n",
       "      <th>3</th>\n",
       "      <td>4.29</td>\n",
       "      <td>5.29</td>\n",
       "    </tr>\n",
       "    <tr>\n",
       "      <th>4</th>\n",
       "      <td>7.08</td>\n",
       "      <td>8.08</td>\n",
       "    </tr>\n",
       "    <tr>\n",
       "      <th>...</th>\n",
       "      <td>...</td>\n",
       "      <td>...</td>\n",
       "    </tr>\n",
       "    <tr>\n",
       "      <th>115</th>\n",
       "      <td>5.85</td>\n",
       "      <td>6.85</td>\n",
       "    </tr>\n",
       "    <tr>\n",
       "      <th>116</th>\n",
       "      <td>5.04</td>\n",
       "      <td>6.04</td>\n",
       "    </tr>\n",
       "    <tr>\n",
       "      <th>117</th>\n",
       "      <td>5.68</td>\n",
       "      <td>6.68</td>\n",
       "    </tr>\n",
       "    <tr>\n",
       "      <th>118</th>\n",
       "      <td>4.77</td>\n",
       "      <td>5.77</td>\n",
       "    </tr>\n",
       "    <tr>\n",
       "      <th>119</th>\n",
       "      <td>3.57</td>\n",
       "      <td>4.57</td>\n",
       "    </tr>\n",
       "  </tbody>\n",
       "</table>\n",
       "<p>120 rows × 2 columns</p>\n",
       "</div>"
      ],
      "text/plain": [
       "     SupplierA  SupplierB\n",
       "0         6.15       7.15\n",
       "1         6.22       7.22\n",
       "2         6.76       7.76\n",
       "3         4.29       5.29\n",
       "4         7.08       8.08\n",
       "..         ...        ...\n",
       "115       5.85       6.85\n",
       "116       5.04       6.04\n",
       "117       5.68       6.68\n",
       "118       4.77       5.77\n",
       "119       3.57       4.57\n",
       "\n",
       "[120 rows x 2 columns]"
      ]
     },
     "execution_count": 4,
     "metadata": {},
     "output_type": "execute_result"
    }
   ],
   "source": [
    "sup"
   ]
  },
  {
   "cell_type": "code",
   "execution_count": 7,
   "id": "104ddf19-a428-4c88-a3bb-2ef023a28ee2",
   "metadata": {},
   "outputs": [
    {
     "data": {
      "text/plain": [
       "(120, 2)"
      ]
     },
     "execution_count": 7,
     "metadata": {},
     "output_type": "execute_result"
    }
   ],
   "source": [
    "sup.shape"
   ]
  },
  {
   "cell_type": "code",
   "execution_count": 8,
   "id": "d50379c6-05ae-4481-ab86-48e51cde896d",
   "metadata": {},
   "outputs": [
    {
     "name": "stdout",
     "output_type": "stream",
     "text": [
      "<class 'pandas.core.frame.DataFrame'>\n",
      "RangeIndex: 120 entries, 0 to 119\n",
      "Data columns (total 2 columns):\n",
      " #   Column     Non-Null Count  Dtype  \n",
      "---  ------     --------------  -----  \n",
      " 0   SupplierA  120 non-null    float64\n",
      " 1   SupplierB  120 non-null    float64\n",
      "dtypes: float64(2)\n",
      "memory usage: 2.0 KB\n"
     ]
    }
   ],
   "source": [
    "sup.info()"
   ]
  },
  {
   "cell_type": "code",
   "execution_count": 9,
   "id": "c774a4e9-508f-422e-8564-5556c949dd46",
   "metadata": {},
   "outputs": [
    {
     "data": {
      "text/html": [
       "<div>\n",
       "<style scoped>\n",
       "    .dataframe tbody tr th:only-of-type {\n",
       "        vertical-align: middle;\n",
       "    }\n",
       "\n",
       "    .dataframe tbody tr th {\n",
       "        vertical-align: top;\n",
       "    }\n",
       "\n",
       "    .dataframe thead th {\n",
       "        text-align: right;\n",
       "    }\n",
       "</style>\n",
       "<table border=\"1\" class=\"dataframe\">\n",
       "  <thead>\n",
       "    <tr style=\"text-align: right;\">\n",
       "      <th></th>\n",
       "      <th>SupplierA</th>\n",
       "      <th>SupplierB</th>\n",
       "    </tr>\n",
       "  </thead>\n",
       "  <tbody>\n",
       "    <tr>\n",
       "      <th>count</th>\n",
       "      <td>120.000000</td>\n",
       "      <td>120.000000</td>\n",
       "    </tr>\n",
       "    <tr>\n",
       "      <th>mean</th>\n",
       "      <td>5.713917</td>\n",
       "      <td>6.713917</td>\n",
       "    </tr>\n",
       "    <tr>\n",
       "      <th>std</th>\n",
       "      <td>1.349004</td>\n",
       "      <td>1.349004</td>\n",
       "    </tr>\n",
       "    <tr>\n",
       "      <th>min</th>\n",
       "      <td>2.330000</td>\n",
       "      <td>3.330000</td>\n",
       "    </tr>\n",
       "    <tr>\n",
       "      <th>25%</th>\n",
       "      <td>4.725000</td>\n",
       "      <td>5.725000</td>\n",
       "    </tr>\n",
       "    <tr>\n",
       "      <th>50%</th>\n",
       "      <td>5.645000</td>\n",
       "      <td>6.645000</td>\n",
       "    </tr>\n",
       "    <tr>\n",
       "      <th>75%</th>\n",
       "      <td>6.625000</td>\n",
       "      <td>7.625000</td>\n",
       "    </tr>\n",
       "    <tr>\n",
       "      <th>max</th>\n",
       "      <td>9.010000</td>\n",
       "      <td>10.010000</td>\n",
       "    </tr>\n",
       "  </tbody>\n",
       "</table>\n",
       "</div>"
      ],
      "text/plain": [
       "        SupplierA   SupplierB\n",
       "count  120.000000  120.000000\n",
       "mean     5.713917    6.713917\n",
       "std      1.349004    1.349004\n",
       "min      2.330000    3.330000\n",
       "25%      4.725000    5.725000\n",
       "50%      5.645000    6.645000\n",
       "75%      6.625000    7.625000\n",
       "max      9.010000   10.010000"
      ]
     },
     "execution_count": 9,
     "metadata": {},
     "output_type": "execute_result"
    }
   ],
   "source": [
    "sup.describe()"
   ]
  },
  {
   "cell_type": "code",
   "execution_count": 10,
   "id": "45bff4e1-9b38-47b0-8b8d-75f0e5c27ae7",
   "metadata": {},
   "outputs": [
    {
     "data": {
      "text/html": [
       "<div>\n",
       "<style scoped>\n",
       "    .dataframe tbody tr th:only-of-type {\n",
       "        vertical-align: middle;\n",
       "    }\n",
       "\n",
       "    .dataframe tbody tr th {\n",
       "        vertical-align: top;\n",
       "    }\n",
       "\n",
       "    .dataframe thead th {\n",
       "        text-align: right;\n",
       "    }\n",
       "</style>\n",
       "<table border=\"1\" class=\"dataframe\">\n",
       "  <thead>\n",
       "    <tr style=\"text-align: right;\">\n",
       "      <th></th>\n",
       "      <th>SupplierA</th>\n",
       "      <th>SupplierB</th>\n",
       "    </tr>\n",
       "  </thead>\n",
       "  <tbody>\n",
       "    <tr>\n",
       "      <th>SupplierA</th>\n",
       "      <td>1.0</td>\n",
       "      <td>1.0</td>\n",
       "    </tr>\n",
       "    <tr>\n",
       "      <th>SupplierB</th>\n",
       "      <td>1.0</td>\n",
       "      <td>1.0</td>\n",
       "    </tr>\n",
       "  </tbody>\n",
       "</table>\n",
       "</div>"
      ],
      "text/plain": [
       "           SupplierA  SupplierB\n",
       "SupplierA        1.0        1.0\n",
       "SupplierB        1.0        1.0"
      ]
     },
     "execution_count": 10,
     "metadata": {},
     "output_type": "execute_result"
    }
   ],
   "source": [
    "sup.corr()"
   ]
  },
  {
   "cell_type": "code",
   "execution_count": 31,
   "id": "16c9e899-9723-4323-905f-a4fb9b37612e",
   "metadata": {},
   "outputs": [
    {
     "name": "stdout",
     "output_type": "stream",
     "text": [
      "Supplier A Shapiro Test: ShapiroResult(statistic=0.9940786957740784, pvalue=0.8961992859840393)\n"
     ]
    }
   ],
   "source": [
    "#Step 3: Check Normality of Data\n",
    "\n",
    "# Normality test \n",
    "import scipy \n",
    "from scipy import stats\n",
    "print(\"Supplier A Shapiro Test:\",stats.shapiro(sup.SupplierA))\n",
    "# Here p value is 0.896 > 0.05 which :accept H0 , means data is normal"
   ]
  },
  {
   "cell_type": "code",
   "execution_count": 15,
   "id": "78782832-2bcd-4797-b3cf-8c28e80d8217",
   "metadata": {},
   "outputs": [
    {
     "name": "stdout",
     "output_type": "stream",
     "text": [
      "Supplier B Shapiro Test: ShapiroResult(statistic=0.9940786957740784, pvalue=0.8961992859840393)\n"
     ]
    }
   ],
   "source": [
    "print(\"Supplier B Shapiro Test:\",stats.shapiro(sup.SupplierB))\n",
    "# Here also p value is 0.896 > 0.05 which :accept H0 , means data is normal"
   ]
  },
  {
   "cell_type": "code",
   "execution_count": 32,
   "id": "37a3b85b-e3c7-4cef-9265-647470a1f411",
   "metadata": {},
   "outputs": [
    {
     "name": "stderr",
     "output_type": "stream",
     "text": [
      "C:\\Users\\ashwi\\anaconda3\\Lib\\site-packages\\scipy\\stats\\_axis_nan_policy.py:502: RuntimeWarning: Precision loss occurred in moment calculation due to catastrophic cancellation. This occurs when the data are nearly identical. Results may be unreliable.\n",
      "  res = hypotest_fun_out(*samples, **kwds)\n"
     ]
    }
   ],
   "source": [
    "# Step 4: Conduct Paired T Test\n",
    "# paired T test\n",
    "t_test,p_val=stats.ttest_rel(sup[\"SupplierA\"],sup[\"SupplierB\"])"
   ]
  },
  {
   "cell_type": "code",
   "execution_count": 33,
   "id": "32156a24-8e2e-45d6-9c25-503306597bf0",
   "metadata": {},
   "outputs": [
    {
     "name": "stdout",
     "output_type": "stream",
     "text": [
      "Paired T test result -4.996833558918069e+16 p value 0.0\n"
     ]
    }
   ],
   "source": [
    "print(\"Paired T test result\",t_test,\"p value\",p_val)\n",
    "#result::p=0.0"
   ]
  },
  {
   "cell_type": "raw",
   "id": "8922cb47-256c-4a24-bc28-ab7a4925614c",
   "metadata": {},
   "source": [
    "#Step 5: Interpret the Results"
   ]
  },
  {
   "cell_type": "markdown",
   "id": "79f055c6-ec0e-42b3-b7f9-32c51846e452",
   "metadata": {},
   "source": [
    "# Conclusion\n",
    "# H0:: no significant diff in transaction times between supplier A & B\n",
    "# H1:: diff exists\n",
    "# p value is less than 0.05 so it will reject null hypothesis\n",
    "# data is not normal\n",
    "# conclusion ::there is diff in transaction time  of A & B\n"
   ]
  },
  {
   "cell_type": "code",
   "execution_count": null,
   "id": "ddbd1b6a-1ba6-4134-844d-8389f2d1417c",
   "metadata": {},
   "outputs": [],
   "source": []
  }
 ],
 "metadata": {
  "kernelspec": {
   "display_name": "Python 3 (ipykernel)",
   "language": "python",
   "name": "python3"
  },
  "language_info": {
   "codemirror_mode": {
    "name": "ipython",
    "version": 3
   },
   "file_extension": ".py",
   "mimetype": "text/x-python",
   "name": "python",
   "nbconvert_exporter": "python",
   "pygments_lexer": "ipython3",
   "version": "3.11.7"
  }
 },
 "nbformat": 4,
 "nbformat_minor": 5
}

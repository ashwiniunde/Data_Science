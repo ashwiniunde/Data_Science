{
 "cells": [
  {
   "cell_type": "markdown",
   "id": "cb3e941e-2b41-4270-83d8-99ed950aa303",
   "metadata": {},
   "source": [
    "# Mood's Median Test"
   ]
  },
  {
   "cell_type": "markdown",
   "id": "866840bf-2b4e-449d-b5a9-37ea39398633",
   "metadata": {},
   "source": [
    "# Objective ::Is the median of Pooh,Piglet and  Tigger are statistically equal\n",
    "# it has equal meadian or not"
   ]
  },
  {
   "cell_type": "raw",
   "id": "978113e6-d20b-40d2-a34c-b23f98e92f23",
   "metadata": {},
   "source": [
    "Use to compare 3 population with external std. dev. \n",
    "Use when data is  not normally distrubuted"
   ]
  },
  {
   "cell_type": "code",
   "execution_count": 1,
   "id": "dc380a69-0cd2-4b14-9b3c-abc9162f3e3d",
   "metadata": {},
   "outputs": [],
   "source": [
    "#Step 1: Import Necessary Libraries\n",
    "import pandas as pd \n",
    "import numpy as numpy\n",
    "import scipy \n",
    "from scipy import stats\n"
   ]
  },
  {
   "cell_type": "code",
   "execution_count": 8,
   "id": "8422bb6d-3e8b-455a-94cc-10b1ee1b56c6",
   "metadata": {},
   "outputs": [],
   "source": [
    "# Step 2. Load Dataset\n",
    "animals=pd.read_csv(\"animals.csv\")"
   ]
  },
  {
   "cell_type": "code",
   "execution_count": 9,
   "id": "03a1c5ff-0dc6-4922-afbe-a3e2f6904a60",
   "metadata": {},
   "outputs": [
    {
     "data": {
      "text/html": [
       "<div>\n",
       "<style scoped>\n",
       "    .dataframe tbody tr th:only-of-type {\n",
       "        vertical-align: middle;\n",
       "    }\n",
       "\n",
       "    .dataframe tbody tr th {\n",
       "        vertical-align: top;\n",
       "    }\n",
       "\n",
       "    .dataframe thead th {\n",
       "        text-align: right;\n",
       "    }\n",
       "</style>\n",
       "<table border=\"1\" class=\"dataframe\">\n",
       "  <thead>\n",
       "    <tr style=\"text-align: right;\">\n",
       "      <th></th>\n",
       "      <th>Pooh</th>\n",
       "      <th>Piglet</th>\n",
       "      <th>Tigger</th>\n",
       "    </tr>\n",
       "  </thead>\n",
       "  <tbody>\n",
       "    <tr>\n",
       "      <th>0</th>\n",
       "      <td>3</td>\n",
       "      <td>2</td>\n",
       "      <td>4</td>\n",
       "    </tr>\n",
       "    <tr>\n",
       "      <th>1</th>\n",
       "      <td>5</td>\n",
       "      <td>4</td>\n",
       "      <td>4</td>\n",
       "    </tr>\n",
       "    <tr>\n",
       "      <th>2</th>\n",
       "      <td>4</td>\n",
       "      <td>2</td>\n",
       "      <td>4</td>\n",
       "    </tr>\n",
       "    <tr>\n",
       "      <th>3</th>\n",
       "      <td>4</td>\n",
       "      <td>2</td>\n",
       "      <td>4</td>\n",
       "    </tr>\n",
       "    <tr>\n",
       "      <th>4</th>\n",
       "      <td>4</td>\n",
       "      <td>1</td>\n",
       "      <td>5</td>\n",
       "    </tr>\n",
       "    <tr>\n",
       "      <th>5</th>\n",
       "      <td>4</td>\n",
       "      <td>2</td>\n",
       "      <td>3</td>\n",
       "    </tr>\n",
       "    <tr>\n",
       "      <th>6</th>\n",
       "      <td>4</td>\n",
       "      <td>3</td>\n",
       "      <td>5</td>\n",
       "    </tr>\n",
       "    <tr>\n",
       "      <th>7</th>\n",
       "      <td>4</td>\n",
       "      <td>2</td>\n",
       "      <td>4</td>\n",
       "    </tr>\n",
       "    <tr>\n",
       "      <th>8</th>\n",
       "      <td>5</td>\n",
       "      <td>2</td>\n",
       "      <td>4</td>\n",
       "    </tr>\n",
       "    <tr>\n",
       "      <th>9</th>\n",
       "      <td>5</td>\n",
       "      <td>3</td>\n",
       "      <td>3</td>\n",
       "    </tr>\n",
       "  </tbody>\n",
       "</table>\n",
       "</div>"
      ],
      "text/plain": [
       "   Pooh  Piglet  Tigger\n",
       "0     3       2       4\n",
       "1     5       4       4\n",
       "2     4       2       4\n",
       "3     4       2       4\n",
       "4     4       1       5\n",
       "5     4       2       3\n",
       "6     4       3       5\n",
       "7     4       2       4\n",
       "8     5       2       4\n",
       "9     5       3       3"
      ]
     },
     "execution_count": 9,
     "metadata": {},
     "output_type": "execute_result"
    }
   ],
   "source": [
    "animals\n"
   ]
  },
  {
   "cell_type": "code",
   "execution_count": 14,
   "id": "7ded7984-170f-4192-a945-a344c69cf244",
   "metadata": {},
   "outputs": [
    {
     "name": "stdout",
     "output_type": "stream",
     "text": [
      "Pooh Normality : ShapiroResult(statistic=0.7940640449523926, pvalue=0.012278728187084198)\n",
      "Piglet Normality : ShapiroResult(statistic=0.8406217694282532, pvalue=0.04488762468099594)\n",
      "Tigger Normality : ShapiroResult(statistic=0.8148399591445923, pvalue=0.021947985514998436)\n"
     ]
    }
   ],
   "source": [
    "# Step 3.Check Normality of Dataabase \n",
    "print(\"Pooh Normality :\",stats.shapiro(animals.Pooh))\n",
    "print(\"Piglet Normality :\",stats.shapiro(animals.Piglet))\n",
    "print(\"Tigger Normality :\",stats.shapiro(animals.Tigger))\n",
    "#Since all p value are less than 0.05 hence  reject null hypothesis\n",
    "#data is not normal hence Mood's Test"
   ]
  },
  {
   "cell_type": "code",
   "execution_count": 15,
   "id": "44676a5f-5d7d-47e0-8dab-805cccaf03e8",
   "metadata": {},
   "outputs": [
    {
     "name": "stdout",
     "output_type": "stream",
     "text": [
      "Moods Median Test : MedianTestResult(statistic=3.3599999999999994, pvalue=0.18637397603940997, median=4.0, table=array([[ 3,  0,  2],\n",
      "       [ 7, 10,  8]], dtype=int64))\n"
     ]
    }
   ],
   "source": [
    "#Step 4. Mood's Median Test\n",
    "median_test_result=stats.median_test(animals.Pooh,animals.Piglet,animals.Tigger)\n",
    "print(\"Moods Median Test :\",median_test_result)\n",
    "#Result :pvalue:0.186"
   ]
  },
  {
   "cell_type": "raw",
   "id": "d3286d54-9a5b-48b8-961c-5e16370141e1",
   "metadata": {},
   "source": [
    "#Null Hypothesis (H0): The medians of Pooh, Piglet, and Tigger are equal.\n",
    "# Alternative Hypothesis (Ha): At least one group's median is different."
   ]
  },
  {
   "cell_type": "markdown",
   "id": "3aad220b-b2cf-41d7-94bb-a1590bff45a7",
   "metadata": {},
   "source": [
    "\n",
    "# Conclusion\n",
    "There is no sufficient evidence to conclude that the medians of Pooh, Piglet, and Tigger are different.\n",
    "#Null Hypothesis (H0): The medians of Pooh, Piglet, and Tigger are equal"
   ]
  }
 ],
 "metadata": {
  "kernelspec": {
   "display_name": "Python 3 (ipykernel)",
   "language": "python",
   "name": "python3"
  },
  "language_info": {
   "codemirror_mode": {
    "name": "ipython",
    "version": 3
   },
   "file_extension": ".py",
   "mimetype": "text/x-python",
   "name": "python",
   "nbconvert_exporter": "python",
   "pygments_lexer": "ipython3",
   "version": "3.11.7"
  }
 },
 "nbformat": 4,
 "nbformat_minor": 5
}
